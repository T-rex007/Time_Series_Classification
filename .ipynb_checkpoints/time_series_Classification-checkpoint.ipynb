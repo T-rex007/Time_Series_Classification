{
 "cells": [
  {
   "cell_type": "code",
   "execution_count": 1,
   "metadata": {},
   "outputs": [],
   "source": [
    "import tensorflow.keras as k\n",
    "import matplotlib.pyplot as plt\n",
    "import pandas as pd\n",
    "import os\n",
    "import numpy as np\n",
    "from sklearn.preprocessing import MinMaxScaler"
   ]
  },
  {
   "cell_type": "code",
   "execution_count": 7,
   "metadata": {},
   "outputs": [
    {
     "data": {
      "text/html": [
       "<div>\n",
       "<style scoped>\n",
       "    .dataframe tbody tr th:only-of-type {\n",
       "        vertical-align: middle;\n",
       "    }\n",
       "\n",
       "    .dataframe tbody tr th {\n",
       "        vertical-align: top;\n",
       "    }\n",
       "\n",
       "    .dataframe thead th {\n",
       "        text-align: right;\n",
       "    }\n",
       "</style>\n",
       "<table border=\"1\" class=\"dataframe\">\n",
       "  <thead>\n",
       "    <tr style=\"text-align: right;\">\n",
       "      <th></th>\n",
       "      <th>Date</th>\n",
       "      <th>Open</th>\n",
       "      <th>Close</th>\n",
       "      <th>High</th>\n",
       "      <th>Low</th>\n",
       "      <th>Trades</th>\n",
       "      <th>Volume</th>\n",
       "      <th>Y</th>\n",
       "    </tr>\n",
       "  </thead>\n",
       "  <tbody>\n",
       "    <tr>\n",
       "      <td>0</td>\n",
       "      <td>2018-01-01T00:00:00.000Z</td>\n",
       "      <td>13838.5</td>\n",
       "      <td>13873.0</td>\n",
       "      <td>13961.0</td>\n",
       "      <td>13838.0</td>\n",
       "      <td>958</td>\n",
       "      <td>2041363</td>\n",
       "      <td>0</td>\n",
       "    </tr>\n",
       "    <tr>\n",
       "      <td>1</td>\n",
       "      <td>2018-01-01T00:05:00.000Z</td>\n",
       "      <td>13873.0</td>\n",
       "      <td>13800.0</td>\n",
       "      <td>13920.0</td>\n",
       "      <td>13800.0</td>\n",
       "      <td>1151</td>\n",
       "      <td>2595550</td>\n",
       "      <td>0</td>\n",
       "    </tr>\n",
       "    <tr>\n",
       "      <td>2</td>\n",
       "      <td>2018-01-01T00:10:00.000Z</td>\n",
       "      <td>13800.0</td>\n",
       "      <td>13771.5</td>\n",
       "      <td>13800.5</td>\n",
       "      <td>13675.0</td>\n",
       "      <td>1859</td>\n",
       "      <td>5809735</td>\n",
       "      <td>0</td>\n",
       "    </tr>\n",
       "    <tr>\n",
       "      <td>3</td>\n",
       "      <td>2018-01-01T00:15:00.000Z</td>\n",
       "      <td>13771.5</td>\n",
       "      <td>13769.0</td>\n",
       "      <td>13795.0</td>\n",
       "      <td>13711.0</td>\n",
       "      <td>861</td>\n",
       "      <td>1816360</td>\n",
       "      <td>0</td>\n",
       "    </tr>\n",
       "    <tr>\n",
       "      <td>4</td>\n",
       "      <td>2018-01-01T00:20:00.000Z</td>\n",
       "      <td>13769.0</td>\n",
       "      <td>13702.0</td>\n",
       "      <td>13775.5</td>\n",
       "      <td>13596.0</td>\n",
       "      <td>1235</td>\n",
       "      <td>4967912</td>\n",
       "      <td>0</td>\n",
       "    </tr>\n",
       "  </tbody>\n",
       "</table>\n",
       "</div>"
      ],
      "text/plain": [
       "                       Date     Open    Close     High      Low  Trades  \\\n",
       "0  2018-01-01T00:00:00.000Z  13838.5  13873.0  13961.0  13838.0     958   \n",
       "1  2018-01-01T00:05:00.000Z  13873.0  13800.0  13920.0  13800.0    1151   \n",
       "2  2018-01-01T00:10:00.000Z  13800.0  13771.5  13800.5  13675.0    1859   \n",
       "3  2018-01-01T00:15:00.000Z  13771.5  13769.0  13795.0  13711.0     861   \n",
       "4  2018-01-01T00:20:00.000Z  13769.0  13702.0  13775.5  13596.0    1235   \n",
       "\n",
       "    Volume  Y  \n",
       "0  2041363  0  \n",
       "1  2595550  0  \n",
       "2  5809735  0  \n",
       "3  1816360  0  \n",
       "4  4967912  0  "
      ]
     },
     "execution_count": 7,
     "metadata": {},
     "output_type": "execute_result"
    }
   ],
   "source": [
    "f = os.listdir()\n",
    "df = pd.read_csv(\"ohlc.csv\")\n",
    "df.head(5)"
   ]
  },
  {
   "cell_type": "code",
   "execution_count": 8,
   "metadata": {},
   "outputs": [
    {
     "name": "stdout",
     "output_type": "stream",
     "text": [
      "<class 'pandas.core.frame.DataFrame'>\n",
      "RangeIndex: 192212 entries, 0 to 192211\n",
      "Data columns (total 8 columns):\n",
      "Date      192212 non-null object\n",
      "Open      192212 non-null float64\n",
      "Close     192212 non-null float64\n",
      "High      192212 non-null float64\n",
      "Low       192212 non-null float64\n",
      "Trades    192212 non-null int64\n",
      "Volume    192212 non-null int64\n",
      "Y         192212 non-null int64\n",
      "dtypes: float64(4), int64(3), object(1)\n",
      "memory usage: 11.7+ MB\n"
     ]
    }
   ],
   "source": [
    "df.info()"
   ]
  },
  {
   "cell_type": "code",
   "execution_count": 9,
   "metadata": {},
   "outputs": [],
   "source": [
    "close = np.array(df[\"Close\"])\n",
    "labels = np.array(df[\"Y\"])"
   ]
  },
  {
   "cell_type": "code",
   "execution_count": 10,
   "metadata": {},
   "outputs": [
    {
     "name": "stdout",
     "output_type": "stream",
     "text": [
      "Min:  3129.5\n",
      "Max:  17412.0\n",
      "Average:  7401.889247289451\n"
     ]
    }
   ],
   "source": [
    "print(\"Min: \", close.min())\n",
    "print(\"Max: \", close.max())\n",
    "print(\"Average: \", close.sum()/len(close))"
   ]
  },
  {
   "cell_type": "code",
   "execution_count": 11,
   "metadata": {},
   "outputs": [
    {
     "name": "stdout",
     "output_type": "stream",
     "text": [
      "2018-01-01T00:00:00.000Z\n",
      "2018-01-01T00:05:00.000Z\n"
     ]
    }
   ],
   "source": [
    "print(df[\"Date\"][0])\n",
    "print(df[\"Date\"][1])\n",
    "df[\"Date\"] = pd.to_datetime(df[\"Date\"])"
   ]
  },
  {
   "cell_type": "code",
   "execution_count": 12,
   "metadata": {},
   "outputs": [
    {
     "name": "stderr",
     "output_type": "stream",
     "text": [
      "c:\\users\\user\\anaconda3\\envs\\tf_gpu\\lib\\site-packages\\pandas\\plotting\\_matplotlib\\converter.py:103: FutureWarning: Using an implicitly registered datetime converter for a matplotlib plotting method. The converter was registered by pandas on import. Future versions of pandas will require you to explicitly register matplotlib converters.\n",
      "\n",
      "To register the converters:\n",
      "\t>>> from pandas.plotting import register_matplotlib_converters\n",
      "\t>>> register_matplotlib_converters()\n",
      "  warnings.warn(msg, FutureWarning)\n"
     ]
    },
    {
     "data": {
      "text/plain": [
       "Text(0.5, 1.0, 'Price Vs Date')"
      ]
     },
     "execution_count": 12,
     "metadata": {},
     "output_type": "execute_result"
    },
    {
     "data": {
      "image/png": "[encoded data removed]",
      "text/plain": [
       "<Figure size 432x288 with 1 Axes>"
      ]
     },
     "metadata": {
      "needs_background": "light"
     },
     "output_type": "display_data"
    }
   ],
   "source": [
    "plt.plot(df[\"Date\"], close)\n",
    "plt.xlabel(\"Date\")\n",
    "plt.ylabel(\"Price\")\n",
    "plt.title(\"Price Vs Date\")"
   ]
  },
  {
   "cell_type": "code",
   "execution_count": 13,
   "metadata": {},
   "outputs": [],
   "source": [
    "from utils import *"
   ]
  },
  {
   "cell_type": "code",
   "execution_count": 14,
   "metadata": {},
   "outputs": [
    {
     "data": {
      "text/plain": [
       "(0, 192212)"
      ]
     },
     "execution_count": 14,
     "metadata": {},
     "output_type": "execute_result"
    }
   ],
   "source": [
    "data = pd.DataFrame(columns = [close, labels])\n",
    "#data = data.reshape(len(close), 2)\n",
    "data.shape"
   ]
  },
  {
   "cell_type": "code",
   "execution_count": 18,
   "metadata": {},
   "outputs": [
    {
     "data": {
      "text/html": [
       "<div>\n",
       "<style scoped>\n",
       "    .dataframe tbody tr th:only-of-type {\n",
       "        vertical-align: middle;\n",
       "    }\n",
       "\n",
       "    .dataframe tbody tr th {\n",
       "        vertical-align: top;\n",
       "    }\n",
       "\n",
       "    .dataframe thead th {\n",
       "        text-align: right;\n",
       "    }\n",
       "</style>\n",
       "<table border=\"1\" class=\"dataframe\">\n",
       "  <thead>\n",
       "    <tr style=\"text-align: right;\">\n",
       "      <th></th>\n",
       "      <th></th>\n",
       "    </tr>\n",
       "  </thead>\n",
       "  <tbody>\n",
       "    <tr>\n",
       "      <td>13873.0</td>\n",
       "      <td>0</td>\n",
       "    </tr>\n",
       "    <tr>\n",
       "      <td>13800.0</td>\n",
       "      <td>0</td>\n",
       "    </tr>\n",
       "    <tr>\n",
       "      <td>13771.5</td>\n",
       "      <td>0</td>\n",
       "    </tr>\n",
       "    <tr>\n",
       "      <td>13769.0</td>\n",
       "      <td>0</td>\n",
       "    </tr>\n",
       "    <tr>\n",
       "      <td>13702.0</td>\n",
       "      <td>0</td>\n",
       "    </tr>\n",
       "    <tr>\n",
       "      <td>...</td>\n",
       "      <td>...</td>\n",
       "    </tr>\n",
       "    <tr>\n",
       "      <td>9240.5</td>\n",
       "      <td>0</td>\n",
       "    </tr>\n",
       "    <tr>\n",
       "      <td>9226.0</td>\n",
       "      <td>1</td>\n",
       "    </tr>\n",
       "    <tr>\n",
       "      <td>9233.0</td>\n",
       "      <td>1</td>\n",
       "    </tr>\n",
       "    <tr>\n",
       "      <td>9241.5</td>\n",
       "      <td>0</td>\n",
       "    </tr>\n",
       "    <tr>\n",
       "      <td>9236.0</td>\n",
       "      <td>0</td>\n",
       "    </tr>\n",
       "  </tbody>\n",
       "</table>\n",
       "<p>192212 rows × 0 columns</p>\n",
       "</div>"
      ],
      "text/plain": [
       "Empty DataFrame\n",
       "Columns: []\n",
       "Index: [(13873.0, 0), (13800.0, 0), (13771.5, 0), (13769.0, 0), (13702.0, 0), (13700.5, 1), (13721.5, 0), (13721.0, 1), (13723.5, 0), (13692.0, 1), (13754.0, 0), (13690.5, 0), (13670.5, 1), (13670.5, 0), (13559.0, 1), (13618.5, 1), (13700.0, 0), (13683.5, 0), (13655.0, 0), (13573.5, 1), (13574.5, 0), (13488.0, 0), (13442.5, 0), (13391.0, 0), (13301.0, 1), (13451.5, 0), (13437.5, 1), (13444.5, 0), (13354.0, 1), (13435.0, 0), (13309.0, 1), (13408.0, 0), (13269.5, 1), (13387.5, 1), (13416.0, 0), (13363.0, 1), (13427.0, 0), (13335.5, 1), (13410.5, 1), (13491.0, 1), (13511.0, 1), (13579.0, 1), (13596.5, 1), (13619.0, 0), (13512.0, 1), (13550.0, 0), (13502.0, 0), (13490.0, 0), (13477.5, 0), (13441.5, 0), (13439.0, 0), (13400.5, 1), (13424.5, 1), (13465.5, 1), (13499.5, 1), (13563.0, 1), (13566.5, 1), (13626.0, 0), (13590.0, 1), (13630.0, 1), (13665.5, 0), (13610.0, 0), (13550.0, 1), (13572.5, 1), (13630.0, 0), (13555.5, 1), (13607.0, 0), (13551.0, 0), (13545.5, 1), (13587.5, 0), (13530.0, 1), (13554.0, 0), (13536.0, 0), (13501.0, 1), (13537.5, 1), (13540.5, 1), (13576.5, 1), (13721.5, 0), (13697.0, 0), (13683.5, 1), (13727.0, 1), (13831.0, 0), (13800.0, 1), (13927.5, 0), (13871.5, 1), (13935.0, 1), (13967.0, 0), (13853.0, 0), (13764.5, 1), (13813.0, 0), (13810.0, 0), (13806.0, 0), (13765.5, 0), (13733.5, 0), (13665.5, 1), (13710.5, 0), (13625.5, 0), (13621.5, 1), (13687.0, 1), (13734.0, 1), ...]\n",
       "\n",
       "[192212 rows x 0 columns]"
      ]
     },
     "execution_count": 18,
     "metadata": {},
     "output_type": "execute_result"
    }
   ],
   "source": [
    "data.T"
   ]
  },
  {
   "cell_type": "markdown",
   "metadata": {},
   "source": [
    "\n",
    "    x, y = [],[]\n",
    "    in_start = 0\n",
    "    for _ in range(len(x_in)):\n",
    "        in_end = in_start + n_input\n",
    "        out_end = n_out + in_end\n",
    "        if (out_end < len(data)):\n",
    "            x_inp = data[in_start: in_end].reshape((n_input, 1))\n",
    "            x.append(x_inp)\n",
    "            y_inp = data[in_end: in_end +1, 0]\n",
    "            y.append(y_inp)\n",
    "        in_start = in_start + 1 \n",
    "    return np.array(x), np.array(y)"
   ]
  },
  {
   "cell_type": "code",
   "execution_count": 20,
   "metadata": {},
   "outputs": [],
   "source": [
    "n_input = 60\n",
    "n_out = 1"
   ]
  },
  {
   "cell_type": "code",
   "execution_count": 21,
   "metadata": {},
   "outputs": [],
   "source": [
    "def prep_transform(x_in, y_in, n_input, n_out):\n",
    "    \"\"\"\n",
    "    Transforms data into a suppervised learning representation\n",
    "    \"\"\"\n",
    "    x, y = [],[]\n",
    "    in_start = 0\n",
    "    for _ in range(len(x_in)):\n",
    "        in_end = in_start + n_input\n",
    "        out_end = n_out + in_end\n",
    "        if (out_end < len(x_in)):\n",
    "            #print(\"hi\")\n",
    "            x_inp = x_in[in_start: in_end].reshape((n_input, 1))\n",
    "            x.append(x_inp)\n",
    "            y_inp = y_in[in_end: in_end +1]\n",
    "            y.append(y_inp)\n",
    "        in_start = in_start + 1\n",
    "    return np.array(x), np.array(y)"
   ]
  },
  {
   "cell_type": "code",
   "execution_count": 27,
   "metadata": {},
   "outputs": [
    {
     "data": {
      "text/plain": [
       "(192151, 1)"
      ]
     },
     "execution_count": 27,
     "metadata": {},
     "output_type": "execute_result"
    }
   ],
   "source": [
    "np.array(y).shape"
   ]
  },
  {
   "cell_type": "code",
   "execution_count": 25,
   "metadata": {},
   "outputs": [
    {
     "data": {
      "text/plain": [
       "(192151, 60, 1)"
      ]
     },
     "execution_count": 25,
     "metadata": {},
     "output_type": "execute_result"
    }
   ],
   "source": [
    "np.array(x).shape"
   ]
  },
  {
   "cell_type": "code",
   "execution_count": null,
   "metadata": {},
   "outputs": [],
   "source": []
  }
 ],
 "metadata": {
  "kernelspec": {
   "display_name": "tf_gpu",
   "language": "python",
   "name": "tf_gpu"
  },
  "language_info": {
   "codemirror_mode": {
    "name": "ipython",
    "version": 3
   },
   "file_extension": ".py",
   "mimetype": "text/x-python",
   "name": "python",
   "nbconvert_exporter": "python",
   "pygments_lexer": "ipython3",
   "version": "3.7.3"
  }
 },
 "nbformat": 4,
 "nbformat_minor": 2
}
